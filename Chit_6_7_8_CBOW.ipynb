{
 "cells": [
  {
   "cell_type": "markdown",
   "metadata": {
    "id": "SOZWUJDdBV9D"
   },
   "source": [
    "# **Chit 6 or 7 or 8**\n",
    "\n",
    "### *Name:Aditya Kangune*\n",
    "### *Roll number: 43321*\n",
    "### *Batch: P11*"
   ]
  },
  {
   "cell_type": "markdown",
   "metadata": {
    "id": "T9f0RSeUJLP1"
   },
   "source": [
    "*Problem Statement:*\n",
    "\n",
    "    Implement the Continuous Bag of Words (CBOW) Model for the given (textual document 1) using the below steps:\n",
    "    a. Data preparation\n",
    "    b. Generate training data\n",
    "    c. Train model\n",
    "    d. Output\n",
    "\n"
   ]
  },
  {
   "cell_type": "markdown",
   "metadata": {
    "id": "GeoUI8RBlLeu"
   },
   "source": [
    "Note: Save the following text in a corona.txt file before"
   ]
  },
  {
   "cell_type": "code",
   "execution_count": 1,
   "metadata": {
    "id": "t4mNSp1FlTs8"
   },
   "outputs": [
    {
     "data": {
      "text/plain": [
       "'\\nThe speed of transmission is an important point of difference between the two viruses. Influenza has a shorter median incubation period (the time from infection to appearance of symptoms) and a shorter serial interval (the time between successive cases) than COVID-19 virus. The serial interval for COVID-19 virus is estimated to be 5-6 days, while for influenza virus, the serial interval is 3 days. This means that influenza can spread faster than COVID-19. \\n\\nFurther, transmission in the first 3-5 days of illness, or potentially pre-symptomatic transmission –transmission of the virus before the appearance of symptoms – is a major driver of transmission for influenza. In contrast, while we are learning that there are people who can shed COVID-19 virus 24-48 hours prior to symptom onset, at present, this does not appear to be a major driver of transmission. \\n\\nThe reproductive number – the number of secondary infections generated from one infected individual – is understood to be between 2 and 2.5 for COVID-19 virus, higher than for influenza. However, estimates for both COVID-19 and influenza viruses are very context and time-specific, making direct comparisons more difficult.  \\n'"
      ]
     },
     "execution_count": 1,
     "metadata": {},
     "output_type": "execute_result"
    }
   ],
   "source": [
    "\"\"\"\n",
    "The speed of transmission is an important point of difference between the two viruses. Influenza has a shorter median incubation period (the time from infection to appearance of symptoms) and a shorter serial interval (the time between successive cases) than COVID-19 virus. The serial interval for COVID-19 virus is estimated to be 5-6 days, while for influenza virus, the serial interval is 3 days. This means that influenza can spread faster than COVID-19. \n",
    "\n",
    "Further, transmission in the first 3-5 days of illness, or potentially pre-symptomatic transmission –transmission of the virus before the appearance of symptoms – is a major driver of transmission for influenza. In contrast, while we are learning that there are people who can shed COVID-19 virus 24-48 hours prior to symptom onset, at present, this does not appear to be a major driver of transmission. \n",
    "\n",
    "The reproductive number – the number of secondary infections generated from one infected individual – is understood to be between 2 and 2.5 for COVID-19 virus, higher than for influenza. However, estimates for both COVID-19 and influenza viruses are very context and time-specific, making direct comparisons more difficult.  \n",
    "\"\"\""
   ]
  },
  {
   "cell_type": "markdown",
   "metadata": {
    "id": "pJO70ku3Ragn"
   },
   "source": [
    "# Importing libraries"
   ]
  },
  {
   "cell_type": "code",
   "execution_count": 2,
   "metadata": {
    "id": "V51q50EbF-T9"
   },
   "outputs": [],
   "source": [
    "import numpy as np\n",
    "import gensim"
   ]
  },
  {
   "cell_type": "code",
   "execution_count": 3,
   "metadata": {},
   "outputs": [],
   "source": [
    "import keras.backend as K\n",
    "from keras.models import Sequential\n",
    "from keras.layers import Dense, Embedding, Lambda\n",
    "from keras.utils import np_utils\n",
    "from keras.preprocessing import sequence\n",
    "from keras.preprocessing.text import Tokenizer"
   ]
  },
  {
   "cell_type": "code",
   "execution_count": 4,
   "metadata": {
    "id": "HslLN21ffhSK"
   },
   "outputs": [],
   "source": [
    "data=open('corona.txt','r')\n",
    "corona_data = [text for text in data if text.count(' ') >= 2]\n",
    "tokenize = Tokenizer()"
   ]
  },
  {
   "cell_type": "code",
   "execution_count": 5,
   "metadata": {},
   "outputs": [
    {
     "data": {
      "text/plain": [
       "['The speed of transmission is an important point of difference between the two viruses. Influenza has a shorter median incubation period (the time from infection to appearance of symptoms) and a shorter serial interval (the time between successive cases) than COVID-19 virus. The serial interval for COVID-19 virus is estimated to be 5-6 days, while for influenza virus, the serial interval is 3 days. This means that influenza can spread faster than COVID-19. \\n',\n",
       " 'Further, transmission in the first 3-5 days of illness, or potentially pre-symptomatic transmission â€“transmission of the virus before the appearance of symptoms â€“ is a major driver of transmission for influenza. In contrast, while we are learning that there are people who can shed COVID-19 virus 24-48 hours prior to symptom onset, at present, this does not appear to be a major driver of transmission. \\n',\n",
       " 'The reproductive number â€“ the number of secondary infections generated from one infected individual â€“ is understood to be between 2 and 2.5 for COVID-19 virus, higher than for influenza. However, estimates for both COVID-19 and influenza viruses are very context and time-specific, making direct comparisons more difficult.']"
      ]
     },
     "execution_count": 5,
     "metadata": {},
     "output_type": "execute_result"
    }
   ],
   "source": [
    "corona_data"
   ]
  },
  {
   "cell_type": "markdown",
   "metadata": {
    "id": "iJiL6QSRfzO3"
   },
   "source": [
    "## Fit data to tokenizer\n"
   ]
  },
  {
   "cell_type": "code",
   "execution_count": 6,
   "metadata": {
    "id": "wBUwYdBJElVz"
   },
   "outputs": [],
   "source": [
    "tokenize.fit_on_texts(corona_data)\n",
    "corona_data = tokenize.texts_to_sequences(corona_data)"
   ]
  },
  {
   "cell_type": "code",
   "execution_count": 7,
   "metadata": {
    "id": "8bCcicjif4i8"
   },
   "outputs": [],
   "source": [
    "# Find total no of words and total no of sentences.\n",
    "total_vocab = sum(len(s) for s in corona_data)\n",
    "word_count = len(tokenize.word_index) + 1\n",
    "window_size = 2"
   ]
  },
  {
   "cell_type": "code",
   "execution_count": 8,
   "metadata": {},
   "outputs": [
    {
     "data": {
      "text/plain": [
       "198"
      ]
     },
     "execution_count": 8,
     "metadata": {},
     "output_type": "execute_result"
    }
   ],
   "source": [
    "total_vocab"
   ]
  },
  {
   "cell_type": "code",
   "execution_count": 9,
   "metadata": {
    "id": "akOXPLfBgE8p"
   },
   "outputs": [],
   "source": [
    "# Generate the pairs of Context words and target words\n",
    "def cbow_model(data, window_size, total_vocab):\n",
    "    total_length = window_size*2\n",
    "    for text in data:\n",
    "        text_len = len(text)\n",
    "        for idx, word in enumerate(text):\n",
    "            context_word = []\n",
    "            target = []\n",
    "            \n",
    "            begin = idx - window_size\n",
    "            end = idx + window_size + 1\n",
    "            \n",
    "            context_word.append([text[i] for i in range(begin, end) if 0 <= i < text_len and i != idx])\n",
    "            target.append(word)\n",
    "            \n",
    "            contextual = sequence.pad_sequences(context_word, total_length=total_length)\n",
    "            final_target = np_utils.to_categorical(target, total_vocab)\n",
    "            yield(contextual, final_target)"
   ]
  },
  {
   "cell_type": "markdown",
   "metadata": {
    "id": "EvCwshtogInC"
   },
   "source": [
    "Create Neural Network model with following parameters :\n",
    "\n",
    "    Model type : sequential\n",
    "    \n",
    "    Layers : Dense , Lambda , embedding. Compile\n",
    "\n",
    "    Options : (loss='categorical_crossentropy', optimizer='adam')"
   ]
  },
  {
   "cell_type": "code",
   "execution_count": 25,
   "metadata": {
    "colab": {
     "base_uri": "https://localhost:8080/"
    },
    "id": "_AJOQ_RBgH0R",
    "outputId": "ed406108-abc5-44fb-c4df-f08eeba195c9"
   },
   "outputs": [
    {
     "name": "stdout",
     "output_type": "stream",
     "text": [
      "Model: \"sequential_2\"\n",
      "_________________________________________________________________\n",
      " Layer (type)                Output Shape              Param #   \n",
      "=================================================================\n",
      " embedding_2 (Embedding)     (None, 4, 100)            19800     \n",
      "                                                                 \n",
      " lambda_2 (Lambda)           (None, 100)               0         \n",
      "                                                                 \n",
      " dense_2 (Dense)             (None, 198)               19998     \n",
      "                                                                 \n",
      "=================================================================\n",
      "Total params: 39,798\n",
      "Trainable params: 39,798\n",
      "Non-trainable params: 0\n",
      "_________________________________________________________________\n",
      "0 0\n",
      "1 0\n",
      "2 0\n",
      "3 0\n",
      "4 0\n",
      "5 0\n",
      "6 0\n",
      "7 0\n",
      "8 0\n",
      "9 0\n",
      "10 0\n",
      "11 0\n",
      "12 0\n",
      "13 0\n",
      "14 0\n"
     ]
    }
   ],
   "source": [
    "model = Sequential()\n",
    "model.add(Embedding(input_dim=total_vocab, output_dim=100, input_length=window_size*2))\n",
    "model.add(Lambda(lambda x: K.mean(x, axis=1), output_shape=(100,)))\n",
    "model.add(Dense(total_vocab, activation='softmax'))\n",
    "model.compile(loss='categorical_crossentropy', optimizer='rmsprop')\n",
    "model.summary()\n",
    "for i in range(15):\n",
    "    cost = 0\n",
    "    for x, y in cbow_model(data, window_size, total_vocab):\n",
    "        cost += model.train_on_batch(contextual, final_target)\n",
    "    print(i, cost)"
   ]
  },
  {
   "cell_type": "code",
   "execution_count": 11,
   "metadata": {
    "colab": {
     "base_uri": "https://localhost:8080/"
    },
    "id": "Ub-YzNuvgHwr",
    "outputId": "992877ba-e94f-4620-c8df-b2bb9f28c308"
   },
   "outputs": [
    {
     "data": {
      "text/plain": [
       "8"
      ]
     },
     "execution_count": 11,
     "metadata": {},
     "output_type": "execute_result"
    }
   ],
   "source": [
    "# Create vector file of some word for testing\n",
    "dimensions=100\n",
    "vect_file = open('vectors.txt' ,'w')\n",
    "vect_file.write('{} {}\\n'.format(total_vocab,dimensions))"
   ]
  },
  {
   "cell_type": "code",
   "execution_count": 26,
   "metadata": {},
   "outputs": [
    {
     "data": {
      "text/plain": [
       "dict_items([('the', 1), ('of', 2), ('influenza', 3), ('covid', 4), ('19', 5), ('virus', 6), ('for', 7), ('transmission', 8), ('is', 9), ('to', 10), ('a', 11), ('and', 12), ('between', 13), ('time', 14), ('serial', 15), ('interval', 16), ('than', 17), ('be', 18), ('5', 19), ('days', 20), ('â€“', 21), ('are', 22), ('viruses', 23), ('shorter', 24), ('from', 25), ('appearance', 26), ('symptoms', 27), ('while', 28), ('3', 29), ('this', 30), ('that', 31), ('can', 32), ('in', 33), ('major', 34), ('driver', 35), ('number', 36), ('2', 37), ('speed', 38), ('an', 39), ('important', 40), ('point', 41), ('difference', 42), ('two', 43), ('has', 44), ('median', 45), ('incubation', 46), ('period', 47), ('infection', 48), ('successive', 49), ('cases', 50), ('estimated', 51), ('6', 52), ('means', 53), ('spread', 54), ('faster', 55), ('further', 56), ('first', 57), ('illness', 58), ('or', 59), ('potentially', 60), ('pre', 61), ('symptomatic', 62), ('â€“transmission', 63), ('before', 64), ('contrast', 65), ('we', 66), ('learning', 67), ('there', 68), ('people', 69), ('who', 70), ('shed', 71), ('24', 72), ('48', 73), ('hours', 74), ('prior', 75), ('symptom', 76), ('onset', 77), ('at', 78), ('present', 79), ('does', 80), ('not', 81), ('appear', 82), ('reproductive', 83), ('secondary', 84), ('infections', 85), ('generated', 86), ('one', 87), ('infected', 88), ('individual', 89), ('understood', 90), ('higher', 91), ('however', 92), ('estimates', 93), ('both', 94), ('very', 95), ('context', 96), ('specific', 97), ('making', 98), ('direct', 99), ('comparisons', 100), ('more', 101), ('difficult', 102)])"
      ]
     },
     "execution_count": 26,
     "metadata": {},
     "output_type": "execute_result"
    }
   ],
   "source": [
    "tokenize.word_index.items()"
   ]
  },
  {
   "cell_type": "code",
   "execution_count": 12,
   "metadata": {
    "id": "4U-4kh1Ygb_f"
   },
   "outputs": [],
   "source": [
    "# Assign weights to your trained model\n",
    "weights = model.get_weights()[0]\n",
    "for text, i in tokenize.word_index.items():\n",
    "    final_vec = ' '.join(map(str, list(weights[i, :])))\n",
    "    vect_file.write('{} {}\\n'.format(text, final_vec))\n",
    "vect_file.close()"
   ]
  },
  {
   "cell_type": "code",
   "execution_count": 13,
   "metadata": {
    "id": "Pte5kYhAgb8O"
   },
   "outputs": [],
   "source": [
    "# Use the vectors created in Gensim\n",
    "cbow_output = gensim.models.KeyedVectors.load_word2vec_format('vectors.txt', binary = False, limit=100)"
   ]
  },
  {
   "cell_type": "code",
   "execution_count": 14,
   "metadata": {
    "colab": {
     "base_uri": "https://localhost:8080/"
    },
    "id": "keSXc08Lgb5f",
    "outputId": "fa082128-56c1-4c6c-defb-f1ba73360e1d",
    "scrolled": true
   },
   "outputs": [
    {
     "data": {
      "text/plain": [
       "[('people', 0.2567548155784607),\n",
       " ('illness', 0.22808602452278137),\n",
       " ('shed', 0.17132219672203064),\n",
       " ('are', 0.16895534098148346),\n",
       " ('potentially', 0.13179916143417358),\n",
       " ('pre', 0.11514081805944443),\n",
       " ('at', 0.10826441645622253),\n",
       " ('infections', 0.10309649258852005),\n",
       " ('not', 0.10053335130214691),\n",
       " ('viruses', 0.09965253621339798)]"
      ]
     },
     "execution_count": 14,
     "metadata": {},
     "output_type": "execute_result"
    }
   ],
   "source": [
    "# choose the word to get similar type of words\n",
    "cbow_output.most_similar(positive=['19'])"
   ]
  },
  {
   "cell_type": "markdown",
   "metadata": {
    "id": "9bifQMRmmYT4"
   },
   "source": [
    "# CODE 2\n",
    "# Importing libraries"
   ]
  },
  {
   "cell_type": "code",
   "execution_count": 15,
   "metadata": {
    "id": "9pUeTjECmYT7"
   },
   "outputs": [],
   "source": [
    "# from keras.preprocessing import text\n",
    "# from keras.utils import np_utils\n",
    "# from keras.preprocessing import sequence\n",
    "# from keras.utils import pad_sequences\n",
    "# import numpy as np\n",
    "# import pandas as pd"
   ]
  },
  {
   "cell_type": "code",
   "execution_count": 16,
   "metadata": {
    "id": "CE2OJrPwmYT8"
   },
   "outputs": [],
   "source": [
    "# # Taking random sentences as data\n",
    "\n",
    "# data = \"\"\"\n",
    "# Coronavirus disease (COVID-19) is an infectious disease caused by the SARS-CoV-2 virus.\n",
    "\n",
    "# Most people infected with the virus will experience mild to moderate respiratory illness and recover without requiring special treatment. However, some will become seriously ill and require medical attention. Older people and those with underlying medical conditions like cardiovascular disease, diabetes, chronic respiratory disease, or cancer are more likely to develop serious illness. Anyone can get sick with COVID-19 and become seriously ill or die at any age. \n",
    "\n",
    "# The best way to prevent and slow down transmission is to be well informed about the disease and how the virus spreads. Protect yourself and others from infection by staying at least 1 metre apart from others, wearing a properly fitted mask, and washing your hands or using an alcohol-based rub frequently. Get vaccinated when it’s your turn and follow local guidance.\n",
    "# \"\"\"\n",
    "# dl_data = data.split()"
   ]
  },
  {
   "cell_type": "code",
   "execution_count": 17,
   "metadata": {
    "id": "bRoH6Y4_mYT9"
   },
   "outputs": [],
   "source": [
    "# #tokenization\n",
    "# tokenizer = text.Tokenizer()\n",
    "# tokenizer.fit_on_texts(dl_data)\n",
    "# word2id = tokenizer.word_index\n",
    "\n",
    "# word2id['PAD'] = 0\n",
    "# id2word = {v:k for k, v in word2id.items()}\n",
    "# wids = [[word2id[w] for w in text.text_to_word_sequence(doc)] for doc in dl_data]\n",
    "\n",
    "# vocab_size = len(word2id)\n",
    "# embed_size = 100\n",
    "# window_size = 2 \n",
    "\n",
    "# print('Vocabulary Size:', vocab_size)\n",
    "# print('Vocabulary Sample:', list(word2id.items())[:10])"
   ]
  },
  {
   "cell_type": "code",
   "execution_count": 18,
   "metadata": {
    "id": "celNk9LmEvm8"
   },
   "outputs": [],
   "source": [
    "# #tokenization\n",
    "# tokenizer = text.Tokenizer()\n",
    "# tokenizer.fit_on_texts(dl_data)\n",
    "# word2id = tokenizer.word_index\n",
    "\n",
    "# word2id['PAD'] = 0\n",
    "# id2word = {v:k for k, v in word2id.items()}\n",
    "# wids = [[word2id[w] for w in text.text_to_word_sequence(doc)] for doc in dl_data]\n",
    "\n",
    "# vocab_size = len(word2id)\n",
    "# embed_size = 100\n",
    "# window_size = 2 \n",
    "\n",
    "# print('Vocabulary Size:', vocab_size)\n",
    "# print('Vocabulary Sample:', list(word2id.items())[:10])"
   ]
  },
  {
   "cell_type": "code",
   "execution_count": 19,
   "metadata": {
    "id": "AAxNYDanInQC"
   },
   "outputs": [],
   "source": [
    "# #generating (context word, target/label word) pairs\n",
    "# def generate_context_word_pairs(corpus, window_size, vocab_size):\n",
    "#     context_length = window_size*2\n",
    "#     for words in corpus:\n",
    "#         sentence_length = len(words)\n",
    "#         for index, word in enumerate(words):\n",
    "#             context_words = []\n",
    "#             label_word   = []            \n",
    "#             start = index - window_size\n",
    "#             end = index + window_size + 1\n",
    "            \n",
    "#             context_words.append([words[i] \n",
    "#                                  for i in range(start, end) \n",
    "#                                  if 0 <= i < sentence_length \n",
    "#                                  and i != index])\n",
    "#             label_word.append(word)\n",
    "\n",
    "#             x = pad_sequences(context_words, maxlen=context_length)\n",
    "#             y = np_utils.to_categorical(label_word, vocab_size)\n",
    "#             yield (x, y)\n",
    "            \n",
    "# i = 0\n",
    "# for x, y in generate_context_word_pairs(corpus=wids, window_size=window_size, vocab_size=vocab_size):\n",
    "#     if 0 not in x[0]:\n",
    "#         # print('Context (X):', [id2word[w] for w in x[0]], '-> Target (Y):', id2word[np.argwhere(y[0])[0][0]])\n",
    "    \n",
    "#         if i == 10:\n",
    "#             break\n",
    "#         i += 1"
   ]
  },
  {
   "cell_type": "code",
   "execution_count": 20,
   "metadata": {
    "id": "Rb5dNmoZKZBv"
   },
   "outputs": [],
   "source": [
    "# #model building\n",
    "# import keras.backend as K\n",
    "# from keras.models import Sequential\n",
    "# from keras.layers import Dense, Embedding, Lambda\n",
    "\n",
    "# cbow = Sequential()\n",
    "# cbow.add(Embedding(input_dim=vocab_size, output_dim=embed_size, input_length=window_size*2))\n",
    "# cbow.add(Lambda(lambda x: K.mean(x, axis=1), output_shape=(embed_size,)))\n",
    "# cbow.add(Dense(vocab_size, activation='softmax'))\n",
    "# cbow.compile(loss='categorical_crossentropy', optimizer='rmsprop')\n",
    "\n",
    "# print(cbow.summary())\n",
    "\n",
    "# # from IPython.display import SVG\n",
    "# # from keras.utils.vis_utils import model_to_dot\n",
    "\n",
    "# # SVG(model_to_dot(cbow, show_shapes=True, show_layer_names=False, rankdir='TB').create(prog='dot', format='svg'))"
   ]
  },
  {
   "cell_type": "code",
   "execution_count": 21,
   "metadata": {
    "id": "xs12C3MDK1q4"
   },
   "outputs": [],
   "source": [
    "# for epoch in range(1, 6):\n",
    "#     loss = 0.\n",
    "#     i = 0\n",
    "#     for x, y in generate_context_word_pairs(corpus=wids, window_size=window_size, vocab_size=vocab_size):\n",
    "#         i += 1\n",
    "#         loss += cbow.train_on_batch(x, y)\n",
    "#         if i % 100000 == 0:\n",
    "#             print('Processed {} (context, word) pairs'.format(i))\n",
    "\n",
    "#     print('Epoch:', epoch, '\\tLoss:', loss)\n",
    "#     print()"
   ]
  },
  {
   "cell_type": "code",
   "execution_count": 22,
   "metadata": {
    "id": "TZ3_QGKVK6Tj"
   },
   "outputs": [],
   "source": [
    "# weights = cbow.get_weights()[0]\n",
    "# weights = weights[1:]\n",
    "# print(weights.shape)\n",
    "\n",
    "# pd.DataFrame(weights, index=list(id2word.values())[1:]).head()"
   ]
  },
  {
   "cell_type": "code",
   "execution_count": 23,
   "metadata": {
    "id": "UFs2IAn_LAYS"
   },
   "outputs": [],
   "source": [
    "# from sklearn.metrics.pairwise import euclidean_distances\n",
    "\n",
    "# distance_matrix = euclidean_distances(weights)\n",
    "# print(distance_matrix.shape)\n",
    "\n",
    "# similar_words = {search_term: [id2word[idx] for idx in distance_matrix[word2id[search_term]-1].argsort()[1:6]+1] \n",
    "#                    for search_term in ['disease']}\n",
    "\n",
    "# similar_words"
   ]
  },
  {
   "cell_type": "code",
   "execution_count": null,
   "metadata": {
    "id": "GePKWe9AR12s"
   },
   "outputs": [],
   "source": []
  }
 ],
 "metadata": {
  "colab": {
   "collapsed_sections": [],
   "provenance": []
  },
  "kernelspec": {
   "display_name": "Python 3",
   "language": "python",
   "name": "python3"
  },
  "language_info": {
   "codemirror_mode": {
    "name": "ipython",
    "version": 3
   },
   "file_extension": ".py",
   "mimetype": "text/x-python",
   "name": "python",
   "nbconvert_exporter": "python",
   "pygments_lexer": "ipython3",
   "version": "3.8.8"
  }
 },
 "nbformat": 4,
 "nbformat_minor": 1
}
