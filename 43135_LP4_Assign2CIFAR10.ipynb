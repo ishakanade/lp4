{
 "cells": [
  {
   "cell_type": "markdown",
   "metadata": {
    "id": "qsoWxgRU_PAr"
   },
   "source": [
    "# LP IV - Assignment 2\n",
    "\n",
    "Name    : Isha Kanade <br>\n",
    "Roll no : 43135 <br>\n",
    "Batch   : Q - 9\n",
    "\n",
    "### Problem statement : \n",
    "Implementing Feedforward neural networks with Keras and TensorFlow\n",
    "\n",
    "    a. Import the necessary packages\n",
    "    b. Load the training and testing data (MNIST/CIFAR10)\n",
    "    c. Define the network architecture using Keras\n",
    "    d. Train the model using SGD\n",
    "    e. Evaluate the network\n",
    "    f. Plot the training loss and accuracy"
   ]
  },
  {
   "cell_type": "code",
   "execution_count": 1,
   "metadata": {
    "id": "_V9mrF-LCjPo"
   },
   "outputs": [],
   "source": [
    "# Importing the necessary packages\n",
    "from sklearn.preprocessing import LabelBinarizer\n",
    "from sklearn.metrics import classification_report\n",
    "\n",
    "import matplotlib.pyplot as plt\n",
    "import tensorflow as tf\n",
    "import keras"
   ]
  },
  {
   "cell_type": "code",
   "execution_count": 2,
   "metadata": {
    "colab": {
     "base_uri": "https://localhost:8080/"
    },
    "id": "XxY26tV7oWHx",
    "outputId": "3c1a4d2b-2d77-46ef-909f-c6f5827d5849"
   },
   "outputs": [],
   "source": [
    "# Load the training and testing MNIST data\n",
    "from keras import datasets\n",
    "(x_train, y_train), (x_test, y_test) = datasets.cifar10.load_data()"
   ]
  },
  {
   "cell_type": "code",
   "execution_count": 3,
   "metadata": {
    "colab": {
     "base_uri": "https://localhost:8080/"
    },
    "id": "mp9JLtUMoYId",
    "outputId": "8cead96f-75f1-4c17-cb25-fe9516110821"
   },
   "outputs": [
    {
     "name": "stdout",
     "output_type": "stream",
     "text": [
      "(50000, 32, 32, 3) (50000, 1)\n",
      "(10000, 32, 32, 3) (10000, 1)\n"
     ]
    }
   ],
   "source": [
    "print(x_train.shape, y_train.shape)\n",
    "print(x_test.shape, y_test.shape)"
   ]
  },
  {
   "cell_type": "code",
   "execution_count": 4,
   "metadata": {},
   "outputs": [],
   "source": [
    "lb = LabelBinarizer()\n",
    "y_train = lb.fit_transform(y_train)\n",
    "y_test = lb.transform(y_test)"
   ]
  },
  {
   "cell_type": "code",
   "execution_count": 5,
   "metadata": {
    "colab": {
     "base_uri": "https://localhost:8080/"
    },
    "id": "8fcrW7R4obdi",
    "outputId": "e98ea182-0d6e-4c84-d978-45f614180757"
   },
   "outputs": [
    {
     "name": "stdout",
     "output_type": "stream",
     "text": [
      "[0 0 0 0 0 0 1 0 0 0]\n",
      "[0 0 0 0 0 0 0 0 0 1]\n",
      "[0 0 0 0 0 0 0 0 0 1]\n",
      "[0 0 0 0 1 0 0 0 0 0]\n",
      "[0 1 0 0 0 0 0 0 0 0]\n",
      "[0 1 0 0 0 0 0 0 0 0]\n",
      "[0 0 1 0 0 0 0 0 0 0]\n",
      "[0 0 0 0 0 0 0 1 0 0]\n",
      "[0 0 0 0 0 0 0 0 1 0]\n",
      "[0 0 0 1 0 0 0 0 0 0]\n"
     ]
    }
   ],
   "source": [
    "for i in range(10):\n",
    "  print(y_train[i])"
   ]
  },
  {
   "cell_type": "code",
   "execution_count": 6,
   "metadata": {
    "id": "J7VLlX2BomBA"
   },
   "outputs": [],
   "source": [
    "x_train = x_train / 255.0\n",
    "x_test = x_test / 255.0"
   ]
  },
  {
   "cell_type": "code",
   "execution_count": 7,
   "metadata": {
    "colab": {
     "base_uri": "https://localhost:8080/"
    },
    "id": "mNbKLcwvonwC",
    "outputId": "44a707dd-d278-48a4-c27c-97e8b8b48352"
   },
   "outputs": [
    {
     "name": "stdout",
     "output_type": "stream",
     "text": [
      "(50000, 3072)\n"
     ]
    }
   ],
   "source": [
    "# Reshape Data\n",
    "x_train = x_train.reshape(x_train.shape[0], 3072)\n",
    "x_test = x_test.reshape(x_test.shape[0], 3072)\n",
    "print(x_train.shape)"
   ]
  },
  {
   "cell_type": "code",
   "execution_count": 8,
   "metadata": {
    "id": "n4KWFyXTCMgR"
   },
   "outputs": [],
   "source": [
    "from keras.models import Sequential\n",
    "from tensorflow.keras.optimizers import SGD\n",
    "from tensorflow.keras.layers import Dense, Dropout"
   ]
  },
  {
   "cell_type": "code",
   "execution_count": 9,
   "metadata": {
    "colab": {
     "base_uri": "https://localhost:8080/"
    },
    "id": "5xV1dnYIopQm",
    "outputId": "e60f6746-6d58-4510-e557-59f3ff882cb7"
   },
   "outputs": [],
   "source": [
    "#Define the network architecture using Keras\n",
    "model = Sequential()\n",
    "model.add(Dense(units=1024, input_shape=(3072,), activation='relu'))\n",
    "model.add(Dense(units=512, activation='relu'))\n",
    "model.add(Dropout(0.2))\n",
    "model.add(Dense(units=10, activation='softmax'))"
   ]
  },
  {
   "cell_type": "code",
   "execution_count": 10,
   "metadata": {},
   "outputs": [
    {
     "name": "stdout",
     "output_type": "stream",
     "text": [
      "Model: \"sequential\"\n",
      "_________________________________________________________________\n",
      " Layer (type)                Output Shape              Param #   \n",
      "=================================================================\n",
      " dense (Dense)               (None, 1024)              3146752   \n",
      "                                                                 \n",
      " dense_1 (Dense)             (None, 512)               524800    \n",
      "                                                                 \n",
      " dropout (Dropout)           (None, 512)               0         \n",
      "                                                                 \n",
      " dense_2 (Dense)             (None, 10)                5130      \n",
      "                                                                 \n",
      "=================================================================\n",
      "Total params: 3,676,682\n",
      "Trainable params: 3,676,682\n",
      "Non-trainable params: 0\n",
      "_________________________________________________________________\n"
     ]
    }
   ],
   "source": [
    "# Training the model using SGD\n",
    "sgd = SGD(learning_rate=0.1, momentum=0)\n",
    "model.compile(loss='categorical_crossentropy', optimizer= sgd, metrics=['accuracy'])\n",
    "model.summary()"
   ]
  },
  {
   "cell_type": "code",
   "execution_count": 11,
   "metadata": {
    "colab": {
     "base_uri": "https://localhost:8080/"
    },
    "id": "wfExZDONoq8D",
    "outputId": "8592ab39-d045-46a4-b9f0-792656c2a1ea"
   },
   "outputs": [
    {
     "name": "stdout",
     "output_type": "stream",
     "text": [
      "Epoch 1/10\n",
      "98/98 [==============================] - 8s 73ms/step - loss: 2.1059 - accuracy: 0.2470 - val_loss: 2.0620 - val_accuracy: 0.2606\n",
      "Epoch 2/10\n",
      "98/98 [==============================] - 6s 65ms/step - loss: 1.8740 - accuracy: 0.3298 - val_loss: 1.8584 - val_accuracy: 0.3253\n",
      "Epoch 3/10\n",
      "98/98 [==============================] - 6s 64ms/step - loss: 1.7911 - accuracy: 0.3631 - val_loss: 1.7634 - val_accuracy: 0.3611\n",
      "Epoch 4/10\n",
      "98/98 [==============================] - 7s 70ms/step - loss: 1.7350 - accuracy: 0.3843 - val_loss: 1.7735 - val_accuracy: 0.3689\n",
      "Epoch 5/10\n",
      "98/98 [==============================] - 7s 74ms/step - loss: 1.6973 - accuracy: 0.3970 - val_loss: 1.6207 - val_accuracy: 0.4274\n",
      "Epoch 6/10\n",
      "98/98 [==============================] - 7s 70ms/step - loss: 1.6491 - accuracy: 0.4192 - val_loss: 1.6567 - val_accuracy: 0.4206\n",
      "Epoch 7/10\n",
      "98/98 [==============================] - 7s 68ms/step - loss: 1.6239 - accuracy: 0.4271 - val_loss: 1.6381 - val_accuracy: 0.4317\n",
      "Epoch 8/10\n",
      "98/98 [==============================] - 7s 66ms/step - loss: 1.6000 - accuracy: 0.4368 - val_loss: 1.6548 - val_accuracy: 0.4147\n",
      "Epoch 9/10\n",
      "98/98 [==============================] - 6s 66ms/step - loss: 1.5653 - accuracy: 0.4496 - val_loss: 1.5912 - val_accuracy: 0.4320\n",
      "Epoch 10/10\n",
      "98/98 [==============================] - 6s 65ms/step - loss: 1.5475 - accuracy: 0.4511 - val_loss: 1.5782 - val_accuracy: 0.4423\n"
     ]
    }
   ],
   "source": [
    "history = model.fit(x=x_train, y=y_train,validation_data=(x_test, y_test), batch_size= 512, epochs= 10)"
   ]
  },
  {
   "cell_type": "code",
   "execution_count": 12,
   "metadata": {},
   "outputs": [
    {
     "name": "stdout",
     "output_type": "stream",
     "text": [
      "              precision    recall  f1-score   support\n",
      "\n",
      "           0       0.57      0.51      0.54      1000\n",
      "           1       0.57      0.59      0.58      1000\n",
      "           2       0.45      0.19      0.27      1000\n",
      "           3       0.34      0.37      0.35      1000\n",
      "           4       0.54      0.23      0.32      1000\n",
      "           5       0.53      0.22      0.31      1000\n",
      "           6       0.52      0.50      0.51      1000\n",
      "           7       0.29      0.79      0.43      1000\n",
      "           8       0.71      0.38      0.50      1000\n",
      "           9       0.43      0.64      0.51      1000\n",
      "\n",
      "    accuracy                           0.44     10000\n",
      "   macro avg       0.49      0.44      0.43     10000\n",
      "weighted avg       0.49      0.44      0.43     10000\n",
      "\n"
     ]
    }
   ],
   "source": [
    "predictions = model.predict(x_test, batch_size=128)\n",
    "print(classification_report(y_test.argmax(axis=1),predictions.argmax(axis=1),target_names=[str(x) for x in lb.classes_]))"
   ]
  },
  {
   "cell_type": "code",
   "execution_count": 13,
   "metadata": {
    "colab": {
     "base_uri": "https://localhost:8080/"
    },
    "id": "WUEBkHM0ossK",
    "outputId": "2b090eee-f67c-4e14-9131-96abac892b7f"
   },
   "outputs": [
    {
     "name": "stdout",
     "output_type": "stream",
     "text": [
      "313/313 [==============================] - 2s 8ms/step - loss: 1.5782 - accuracy: 0.4423\n",
      "\n",
      "Test Loss: 1.5781702995300293 \n",
      "\n",
      "Test Accuracy: 0.4422999918460846\n"
     ]
    }
   ],
   "source": [
    "# Evaluating the model\n",
    "\n",
    "test_loss, test_acc = model.evaluate(x_test, y_test)\n",
    "\n",
    "print(\"\\nTest Loss: {} \\n\\nTest Accuracy: {}\".format(test_loss, test_acc))"
   ]
  },
  {
   "cell_type": "code",
   "execution_count": 14,
   "metadata": {},
   "outputs": [],
   "source": [
    "# Plot the training loss and accuracy"
   ]
  },
  {
   "cell_type": "code",
   "execution_count": 15,
   "metadata": {
    "colab": {
     "base_uri": "https://localhost:8080/"
    },
    "id": "TeYiaWFUBI78",
    "outputId": "8340d3fa-606d-4a7c-be30-38f974e46dcd"
   },
   "outputs": [
    {
     "name": "stdout",
     "output_type": "stream",
     "text": [
      "dict_keys(['loss', 'accuracy', 'val_loss', 'val_accuracy'])\n"
     ]
    }
   ],
   "source": [
    "# list all data in history\n",
    "print(history.history.keys())"
   ]
  },
  {
   "cell_type": "code",
   "execution_count": 16,
   "metadata": {
    "colab": {
     "base_uri": "https://localhost:8080/",
     "height": 295
    },
    "id": "EV_UTcqRDJte",
    "outputId": "f4ec1a6f-119e-4c78-bfe1-369bd15d3eb3",
    "scrolled": true
   },
   "outputs": [
    {
     "data": {
      "image/png": "[encoded data removed]",
      "text/plain": [
       "<Figure size 432x288 with 1 Axes>"
      ]
     },
     "metadata": {
      "needs_background": "light"
     },
     "output_type": "display_data"
    }
   ],
   "source": [
    "# summarize history for accuracy\n",
    "plt.plot(history.history['accuracy'])\n",
    "plt.plot(history.history['val_accuracy'])\n",
    "plt.title('Model accuracy')\n",
    "plt.ylabel('Accuracy')\n",
    "plt.xlabel('Epoch')\n",
    "plt.legend(['train', 'test'], loc='upper left')\n",
    "plt.show()\n"
   ]
  },
  {
   "cell_type": "code",
   "execution_count": 17,
   "metadata": {
    "colab": {
     "base_uri": "https://localhost:8080/",
     "height": 295
    },
    "id": "w1qBecSZDLqQ",
    "outputId": "afd9d0d1-3cd5-4c10-81fe-f2d5fa557649"
   },
   "outputs": [
    {
     "data": {
      "image/png": "[encoded data removed]",
      "text/plain": [
       "<Figure size 432x288 with 1 Axes>"
      ]
     },
     "metadata": {
      "needs_background": "light"
     },
     "output_type": "display_data"
    }
   ],
   "source": [
    "# summarize history for loss\n",
    "plt.plot(history.history['loss'])\n",
    "plt.plot(history.history['val_loss'])\n",
    "plt.title('Model loss')\n",
    "plt.ylabel('Loss')\n",
    "plt.xlabel('Epoch')\n",
    "plt.legend(['train', 'test'], loc='upper left')\n",
    "plt.show()"
   ]
  },
  {
   "cell_type": "code",
   "execution_count": null,
   "metadata": {},
   "outputs": [],
   "source": []
  }
 ],
 "metadata": {
  "colab": {
   "collapsed_sections": [],
   "provenance": []
  },
  "kernelspec": {
   "display_name": "Python 3",
   "language": "python",
   "name": "python3"
  },
  "language_info": {
   "codemirror_mode": {
    "name": "ipython",
    "version": 3
   },
   "file_extension": ".py",
   "mimetype": "text/x-python",
   "name": "python",
   "nbconvert_exporter": "python",
   "pygments_lexer": "ipython3",
   "version": "3.8.8"
  }
 },
 "nbformat": 4,
 "nbformat_minor": 1
}
