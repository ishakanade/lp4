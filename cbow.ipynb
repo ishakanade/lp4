{
 "cells": [
  {
   "cell_type": "code",
   "execution_count": 1,
   "id": "0ecdb7f3",
   "metadata": {},
   "outputs": [],
   "source": [
    "import numpy as np\n",
    "import gensim\n",
    "import keras.backend as K\n",
    "from keras.models import Sequential\n",
    "from keras.utils import np_utils\n",
    "from keras.layers import Dense, Embedding, Lambda\n",
    "from keras.preprocessing.text import Tokenizer\n",
    "from keras.preprocessing import sequence"
   ]
  },
  {
   "cell_type": "code",
   "execution_count": 2,
   "id": "bd6b452e",
   "metadata": {},
   "outputs": [],
   "source": [
    "data=open('corona.txt', 'r')\n",
    "corona_data = [text for text in data if text.count(' ') >= 2]\n",
    "tokenize = Tokenizer()"
   ]
  },
  {
   "cell_type": "code",
   "execution_count": 3,
   "id": "e5637687",
   "metadata": {},
   "outputs": [],
   "source": [
    "tokenize.fit_on_texts(corona_data)\n",
    "corona_data = tokenize.texts_to_sequences(corona_data)"
   ]
  },
  {
   "cell_type": "code",
   "execution_count": 4,
   "id": "55f392e7",
   "metadata": {},
   "outputs": [
    {
     "data": {
      "text/plain": [
       "198"
      ]
     },
     "execution_count": 4,
     "metadata": {},
     "output_type": "execute_result"
    }
   ],
   "source": [
    "total_vocab = sum(len(s) for s in corona_data)\n",
    "total_vocab"
   ]
  },
  {
   "cell_type": "code",
   "execution_count": 5,
   "id": "7d0d1c1e",
   "metadata": {},
   "outputs": [],
   "source": [
    "word_count = len(tokenize.word_index) + 1\n",
    "window_size = 2"
   ]
  },
  {
   "cell_type": "code",
   "execution_count": 6,
   "id": "ada6d898",
   "metadata": {},
   "outputs": [],
   "source": [
    "def cbow_model(data, window_size, total_vocab):\n",
    "    total_len = window_size*2\n",
    "    for text in data:\n",
    "        text_len = len(text)\n",
    "        for idx, word in enumerate(text):\n",
    "            context_w =[]\n",
    "            target = []\n",
    "            \n",
    "            begin = idx - window_size\n",
    "            end = idx + window_size + 1\n",
    "            \n",
    "            context_w.append([text(i) for i in range(begin, end) if 0 <= i < len(text) and i!=idx])\n",
    "            target.append(word)\n",
    "            \n",
    "            c = sequence.pad_sequences(context_w, total_length = total_len)\n",
    "            final_target = np_utils.to_categorical(target, total_vocab)\n",
    "            \n",
    "            yield(c, final_target)"
   ]
  },
  {
   "cell_type": "code",
   "execution_count": 7,
   "id": "523893d3",
   "metadata": {},
   "outputs": [
    {
     "name": "stdout",
     "output_type": "stream",
     "text": [
      "Model: \"sequential\"\n",
      "_________________________________________________________________\n",
      " Layer (type)                Output Shape              Param #   \n",
      "=================================================================\n",
      " embedding (Embedding)       (None, 4, 100)            19800     \n",
      "                                                                 \n",
      " lambda (Lambda)             (None, 100)               0         \n",
      "                                                                 \n",
      " dense (Dense)               (None, 198)               19998     \n",
      "                                                                 \n",
      "=================================================================\n",
      "Total params: 39,798\n",
      "Trainable params: 39,798\n",
      "Non-trainable params: 0\n",
      "_________________________________________________________________\n"
     ]
    }
   ],
   "source": [
    "model = Sequential()\n",
    "model.add(Embedding(input_dim = total_vocab, output_dim = 100, input_length = window_size*2))\n",
    "model.add(Lambda(lambda x:K.mean(x, axis =1), output_shape=(100,)))\n",
    "model.add(Dense(total_vocab, activation = 'softmax'))\n",
    "model.summary()"
   ]
  },
  {
   "cell_type": "code",
   "execution_count": 8,
   "id": "3c76c5b1",
   "metadata": {},
   "outputs": [],
   "source": [
    "model.compile(loss='categorical_crossentropy', optimizer = 'adam')"
   ]
  },
  {
   "cell_type": "code",
   "execution_count": 9,
   "id": "3e2f7c45",
   "metadata": {},
   "outputs": [
    {
     "data": {
      "text/plain": [
       "8"
      ]
     },
     "execution_count": 9,
     "metadata": {},
     "output_type": "execute_result"
    }
   ],
   "source": [
    "testfile = open('vectors.text', 'w')\n",
    "testfile.write('{} {}\\n'.format(total_vocab, 100))"
   ]
  },
  {
   "cell_type": "code",
   "execution_count": 10,
   "id": "056b5b9a",
   "metadata": {},
   "outputs": [
    {
     "data": {
      "text/plain": [
       "array([[ 0.00507251,  0.0244944 ,  0.00256344, ..., -0.00014775,\n",
       "        -0.02308915,  0.01272514],\n",
       "       [-0.01192098,  0.04134912,  0.00154469, ...,  0.02686591,\n",
       "         0.00136548,  0.00067942],\n",
       "       [-0.01928465,  0.01018773,  0.03719164, ...,  0.00619762,\n",
       "         0.00544707, -0.00177746],\n",
       "       ...,\n",
       "       [-0.01549976, -0.04142914,  0.00382031, ...,  0.04257217,\n",
       "        -0.01160747,  0.00997703],\n",
       "       [-0.00408662,  0.02358354, -0.0170808 , ..., -0.04474369,\n",
       "         0.04081687,  0.01577801],\n",
       "       [ 0.01908514, -0.04749229, -0.04895231, ...,  0.0428634 ,\n",
       "        -0.0422344 ,  0.02018325]], dtype=float32)"
      ]
     },
     "execution_count": 10,
     "metadata": {},
     "output_type": "execute_result"
    }
   ],
   "source": [
    "weights = model.get_weights()[0]\n",
    "weights"
   ]
  },
  {
   "cell_type": "code",
   "execution_count": 11,
   "id": "b63aa448",
   "metadata": {},
   "outputs": [],
   "source": [
    "for text, i in tokenize.word_index.items():\n",
    "    final_vec = ' '.join(map(str, list(weights[i, :])))\n",
    "    testfile.write('{} {}\\n'.format(text, final_vec))\n",
    "testfile.close()"
   ]
  },
  {
   "cell_type": "code",
   "execution_count": 14,
   "id": "3c92f972",
   "metadata": {},
   "outputs": [],
   "source": [
    "op = gensim.models.KeyedVectors.load_word2vec_format('vectors.txt', binary = False, limit=100)"
   ]
  },
  {
   "cell_type": "code",
   "execution_count": 17,
   "id": "f31acac3",
   "metadata": {},
   "outputs": [
    {
     "data": {
      "text/plain": [
       "[('number', 0.30579182505607605),\n",
       " ('reproductive', 0.22632810473442078),\n",
       " ('has', 0.21565236151218414),\n",
       " ('symptomatic', 0.16818612813949585),\n",
       " ('higher', 0.16382279992103577),\n",
       " ('prior', 0.1621086299419403),\n",
       " ('days', 0.14873236417770386),\n",
       " ('making', 0.14731886982917786),\n",
       " ('direct', 0.1466849446296692),\n",
       " ('cases', 0.14031724631786346)]"
      ]
     },
     "execution_count": 17,
     "metadata": {},
     "output_type": "execute_result"
    }
   ],
   "source": [
    "op.most_similar(positive=['virus'])"
   ]
  }
 ],
 "metadata": {
  "kernelspec": {
   "display_name": "Python 3",
   "language": "python",
   "name": "python3"
  },
  "language_info": {
   "codemirror_mode": {
    "name": "ipython",
    "version": 3
   },
   "file_extension": ".py",
   "mimetype": "text/x-python",
   "name": "python",
   "nbconvert_exporter": "python",
   "pygments_lexer": "ipython3",
   "version": "3.8.8"
  }
 },
 "nbformat": 4,
 "nbformat_minor": 5
}
